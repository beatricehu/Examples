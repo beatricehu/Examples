{
  "nbformat": 4,
  "nbformat_minor": 0,
  "metadata": {
    "colab": {
      "provenance": [],
      "include_colab_link": true
    },
    "kernelspec": {
      "name": "python3",
      "display_name": "Python 3"
    },
    "language_info": {
      "name": "python"
    }
  },
  "cells": [
    {
      "cell_type": "markdown",
      "metadata": {
        "id": "view-in-github",
        "colab_type": "text"
      },
      "source": [
        "<a href=\"https://colab.research.google.com/github/beatricehu/Examples/blob/master/HF_Course_Unit_2_Quiz.ipynb\" target=\"_parent\"><img src=\"https://colab.research.google.com/assets/colab-badge.svg\" alt=\"Open In Colab\"/></a>"
      ]
    },
    {
      "cell_type": "code",
      "source": [
        "# 1\n",
        "from smolagents import CodeAgent, DuckDuckGoSearchTool, HfApiModel\n",
        "\n",
        "agent = CodeAgent(\n",
        "    tools=[DuckDuckGoSearchTool()],\n",
        "    model=HfApiModel(\"Qwen/Qwen2.5-Coder-32B-Instruct\")\n",
        ")"
      ],
      "metadata": {
        "id": "Xzv6-_Ih8fmu"
      },
      "execution_count": null,
      "outputs": []
    },
    {
      "cell_type": "code",
      "source": [
        "# 2\n",
        "from smolagents import CodeAgent, DuckDuckGoSearchTool, HfApiModel, ToolCallingAgent\n",
        "\n",
        "web_agent = ToolCallingAgent(\n",
        "    tools=[DuckDuckGoSearchTool()],\n",
        "    model=HfApiModel(\"Qwen/Qwen2.5-Coder-32B-Instruct\"),\n",
        "    max_steps=10,\n",
        "    name=\"web_search\",\n",
        "    description=\"Search information in the web from the user prompt\"\n",
        ")\n",
        "\n",
        "manager_agent = CodeAgent(tools=[], model=HfApiModel(\"Qwen/Qwen2.5-Coder-32B-Instruct\"), additional_authorized_imports=[\"time\", \"pandas\", \"numpy\"], managed_agents = [web_agent])"
      ],
      "metadata": {
        "id": "iXHA5vme_aaH"
      },
      "execution_count": null,
      "outputs": []
    },
    {
      "cell_type": "code",
      "source": [
        "# 3\n",
        "from smolagents import CodeAgent, E2BSandbox\n",
        "\n",
        "agent = CodeAgent(\n",
        "    tools=[],\n",
        "    model=model,\n",
        "    additional_authorized_imports=[\"numpy\"],\n",
        "    sandbox=E2BSandbox()\n",
        ")"
      ],
      "metadata": {
        "id": "gIVFsg3Us9Hu"
      },
      "execution_count": null,
      "outputs": []
    },
    {
      "cell_type": "code",
      "source": [
        "# 4\n",
        "from smolagents import ToolCallingAgent, DuckDuckGoSearchTool, HfApiModel\n",
        "\n",
        "agent = ToolCallingAgent(\n",
        "    tools=[DuckDuckGoSearchTool()],\n",
        "    model=HfApiModel(\"Qwen/Qwen2.5-Coder-32B-Instruct\"),\n",
        "    max_steps=10,\n",
        "    name=\"web_search\",\n",
        "    description=\"Search information in the web from the user prompt\"\n",
        ")"
      ],
      "metadata": {
        "id": "lVF1Ph9ztqSv"
      },
      "execution_count": null,
      "outputs": []
    },
    {
      "cell_type": "code",
      "source": [
        "# 5\n",
        "from smolagents import HfApiModel, LiteLLMModel\n",
        "\n",
        "model = HfApiModel(\"Qwen/Qwen2.5-Coder-32B-Instruct\")\n",
        "\n",
        "l_model = LiteLLMModel(\"anthropic/claude-3-sonnet\")"
      ],
      "metadata": {
        "id": "oQNsxhR_ulC3"
      },
      "execution_count": null,
      "outputs": []
    }
  ]
}